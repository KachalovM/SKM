{
  "nbformat": 4,
  "nbformat_minor": 0,
  "metadata": {
    "colab": {
      "name": "Untitled0.ipynb",
      "provenance": [],
      "collapsed_sections": []
    },
    "kernelspec": {
      "name": "python3",
      "display_name": "Python 3"
    },
    "language_info": {
      "name": "python"
    }
  },
  "cells": [
    {
      "cell_type": "markdown",
      "metadata": {
        "id": "9pp9B6yzF1Ri"
      },
      "source": [
        "#11.Аппроксимация данных. Радиоактивный распад\n",
        "Закон радиоактивного распада, открытый Э.Резерфрдом и Ф.Содди, утверждает, что активность радиоактивного вещества уменьшается во времени по экспоненциальному закону (геометрической прогресии). Таким образов, активность такого вещества можно характеризовать периодом полураспада – промежутком временем, в течении которого активность уменьшается в $2$ раза. Здесь мы приводим данные, опубликованные в работе [Rutherford E. A Radioactive Substance emitted from Thorium Compounds // Philosophical Magazine. 1900. 49. 1–14]. Из сосуда с торием, был выкачан воздух. В результате была выделена эманация тория (газ радон-220, или торон). Для измерения ее ионизирующей способности подавалось напряжение 100 В и измерялась сила тока, которая менялась во времени.\n",
        "```\n",
        " Время, с   Сила тока, А\n",
        "      0          1.00\n",
        "     28          0.69\n",
        "     62          0.51\n",
        "    118          0.23\n",
        "    155          0.14\n",
        "    210          0.067\n",
        "    272          0.041\n",
        "    360          0.018\n",
        "```\n",
        "* Изобразите данные на графике.\n",
        "* Восстановите зависимость $y=c e^{\\alpha t}$. Воспользуйтесь двумя методами:\n",
        "   * логарифмированием сведите задачу к линейной задаче наименьших квадратов,\n",
        "   * нелинейным методом наименьших квадратов\n",
        "* Изобразите графики построенных зависимостей.\n",
        "* Насколько хорошо установленные зависимости приближают данные? Какая из них лучше?\n",
        "* Определите период полураспада радона-220 и сравните его с данными из интернета. Чем обусловлено расхождение (если оно есть)?"
      ]
    },
    {
      "cell_type": "code",
      "metadata": {
        "id": "GwbIONbqFxaa"
      },
      "source": [
        "import numpy as np\n",
        "import matplotlib.pyplot as plt\n",
        "%matplotlib inline\n",
        "from scipy import linalg"
      ],
      "execution_count": 3,
      "outputs": []
    },
    {
      "cell_type": "code",
      "metadata": {
        "colab": {
          "base_uri": "https://localhost:8080/",
          "height": 265
        },
        "id": "HMH4Bj_gHzZi",
        "outputId": "edbca8b8-2650-444a-fe77-2e75fa00ea31"
      },
      "source": [
        "x = np.array([0,  28,  62,  118,  155,  210, 272, 360])\n",
        "y = np.array([1.00, 0.69, 0.51,  0.23, 0.14, 0.067, 0.041, 0.018])\n",
        "plt.plot(x, y, color = 'tab:blue')\n",
        "plt.plot(x, y, 'o', color = 'tab:red')\n",
        "pass"
      ],
      "execution_count": 4,
      "outputs": [
        {
          "output_type": "display_data",
          "data": {
            "image/png": "[encoded data removed]",
            "text/plain": [
              "<Figure size 432x288 with 1 Axes>"
            ]
          },
          "metadata": {
            "tags": [],
            "needs_background": "light"
          }
        }
      ]
    },
    {
      "cell_type": "markdown",
      "metadata": {
        "id": "mBOoCxDcK8vO"
      },
      "source": [
        "#Метод наименьших квадратов(МНК).\n",
        "Пусть имеются точки $(x_1, y_1), (x_2, y_2), \\dots, (x_m, y_m).$ Необходимо найти линейную функцию (простая линейная регрессия)\n",
        "$$ y = \\beta_0 + \\beta_1 x, $$\n",
        "где $$ y_i \\approx \\beta_0 + \\beta_1 x_i \\qquad (i=1,2,\\dots, m). $$\n",
        "Будем решать задачу через матрицы. Пусть: $$ X = \\left(\\begin{array}{cc} 1 & x_1 \\\\\\\\1 & x_2 \\\\\\\\ \\vdots & \\vdots \\\\\\\\ 1 & x_m \\\\\\\\\\ \\end{array}\\right),\\qquad y =\\left(\\begin{array}{c}y_1 \\\\\\\\y_2 \\\\\\\\ \\vdots \\\\\\\\ y_m \\\\\\\\ \\end{array}\\right)\\qquad,\\beta =\\left(\\begin{array}{c}\\beta_0 \\\\\\\\ \\beta_1 \\\\\\\\\\end{array}\\right)\n",
        "$$\n",
        "Система нормальных уравнений:\n",
        "$$\n",
        "  (X^{\\rm T} X)\\, \\beta = X^{\\rm T} y.\n",
        "$$\n",
        "Получаем:"
      ]
    },
    {
      "cell_type": "code",
      "metadata": {
        "colab": {
          "base_uri": "https://localhost:8080/",
          "height": 282
        },
        "id": "xF37t_IaJPVH",
        "outputId": "18d3aa91-3c7a-411b-8e8f-85a8903f75fa"
      },
      "source": [
        "logr = np.log(y)\n",
        "n = len(x)\n",
        "X = np.stack((np.ones(n), x)).T\n",
        "beta = np.linalg.solve(X.T@X, X.T@logr)\n",
        "beta0,beta1 = beta\n",
        "plt.plot(x, y, 'o',color = 'tab:red' )\n",
        "plt.plot(x,np.exp(beta0)*np.exp(beta1*x))\n",
        "pass\n",
        "beta0,beta1\n",
        "\n"
      ],
      "execution_count": 5,
      "outputs": [
        {
          "output_type": "execute_result",
          "data": {
            "text/plain": [
              "(-0.07535205973302316, -0.011445651432512166)"
            ]
          },
          "metadata": {
            "tags": []
          },
          "execution_count": 5
        },
        {
          "output_type": "display_data",
          "data": {
            "image/png": "[encoded data removed]",
            "text/plain": [
              "<Figure size 432x288 with 1 Axes>"
            ]
          },
          "metadata": {
            "tags": [],
            "needs_background": "light"
          }
        }
      ]
    },
    {
      "cell_type": "markdown",
      "metadata": {
        "id": "o7uKvFdQDUrM"
      },
      "source": [
        "В $ x $ указываем произвольное значение и с помощью зависимости  $ y = \\beta_0 + \\beta_1 x, $ необходимо получить $y = 0.5$"
      ]
    },
    {
      "cell_type": "code",
      "metadata": {
        "id": "7kcqVhYRSkdl",
        "colab": {
          "base_uri": "https://localhost:8080/",
          "height": 282
        },
        "outputId": "9fab200d-f81d-47ba-ad24-e0843248450a"
      },
      "source": [
        "x1 = 53.97\n",
        "y1 = np.exp(beta0)*np.exp(beta1*x1)\n",
        "plt.plot(x1, y1, 'o',color = 'tab:red' )\n",
        "plt.plot(x,np.exp(beta0)*np.exp(beta1*x))\n",
        "pass\n",
        "np.exp(y1)"
      ],
      "execution_count": 105,
      "outputs": [
        {
          "output_type": "execute_result",
          "data": {
            "text/plain": [
              "1.6487817103863547"
            ]
          },
          "metadata": {
            "tags": []
          },
          "execution_count": 105
        },
        {
          "output_type": "display_data",
          "data": {
            "image/png": "[encoded data removed]",
            "text/plain": [
              "<Figure size 432x288 with 1 Axes>"
            ]
          },
          "metadata": {
            "tags": [],
            "needs_background": "light"
          }
        }
      ]
    },
    {
      "cell_type": "markdown",
      "metadata": {
        "id": "yvTLT_brAT1n"
      },
      "source": [
        "Период полураспада радона-220 равен 55.6(1)с, полученный период$\\approx$53.97с. Разница между значениями$\\approx$1,64с."
      ]
    }
  ]
}
